{
  "nbformat": 4,
  "nbformat_minor": 0,
  "metadata": {
    "colab": {
      "name": "Dict_Comprehension.ipynb",
      "provenance": []
    },
    "kernelspec": {
      "name": "python3",
      "display_name": "Python 3"
    },
    "language_info": {
      "name": "python"
    }
  },
  "cells": [
    {
      "cell_type": "code",
      "execution_count": null,
      "metadata": {
        "id": "kaLMcyx6Ouix"
      },
      "outputs": [],
      "source": [
        "#######################\n",
        "# Dict Comprehension\n",
        "#######################"
      ]
    },
    {
      "cell_type": "code",
      "source": [
        "dictionary={'a':1,\n",
        "            'b':2,\n",
        "            'c':3,\n",
        "            'd':4}"
      ],
      "metadata": {
        "id": "x0tgzewdPA45"
      },
      "execution_count": 2,
      "outputs": []
    },
    {
      "cell_type": "code",
      "source": [
        "#>a,b,c,d>keys \n",
        "#1,2,3,4>values\n",
        "#item>a:1-b:2...\n",
        "print('keys: ',dictionary.keys())\n",
        "print('values: ',dictionary.values())\n",
        "print('items: ',dictionary.items())"
      ],
      "metadata": {
        "colab": {
          "base_uri": "https://localhost:8080/"
        },
        "id": "cJ4nNRk-PA7h",
        "outputId": "7beb93f9-97d2-4e6b-f013-a5a20f8754ba"
      },
      "execution_count": 14,
      "outputs": [
        {
          "output_type": "stream",
          "name": "stdout",
          "text": [
            "keys:  dict_keys(['a', 'b', 'c', 'd'])\n",
            "values:  dict_values([1, 2, 3, 4])\n",
            "items:  dict_items([('a', 1), ('b', 2), ('c', 3), ('d', 4)])\n"
          ]
        }
      ]
    },
    {
      "cell_type": "code",
      "source": [
        "{k:v**2 for (k,v) in dictionary.items()}"
      ],
      "metadata": {
        "colab": {
          "base_uri": "https://localhost:8080/"
        },
        "id": "9lPl8mYSPA-E",
        "outputId": "1f504e30-a9aa-4a15-89b3-cc25b2a263db"
      },
      "execution_count": 15,
      "outputs": [
        {
          "output_type": "execute_result",
          "data": {
            "text/plain": [
              "{'a': 1, 'b': 4, 'c': 9, 'd': 16}"
            ]
          },
          "metadata": {},
          "execution_count": 15
        }
      ]
    },
    {
      "cell_type": "code",
      "source": [
        "{k:v*5 for (k,v) in dictionary.items()}"
      ],
      "metadata": {
        "colab": {
          "base_uri": "https://localhost:8080/"
        },
        "id": "m9wZoySlPBAs",
        "outputId": "0bf2603f-bd88-4219-8216-3a2f2c45dddd"
      },
      "execution_count": 16,
      "outputs": [
        {
          "output_type": "execute_result",
          "data": {
            "text/plain": [
              "{'a': 5, 'b': 10, 'c': 15, 'd': 20}"
            ]
          },
          "metadata": {},
          "execution_count": 16
        }
      ]
    },
    {
      "cell_type": "code",
      "source": [
        "{k:v+5 for (k,v) in dictionary.items()}"
      ],
      "metadata": {
        "colab": {
          "base_uri": "https://localhost:8080/"
        },
        "id": "Rmx63JuiPBDF",
        "outputId": "3b446e0b-2117-4a08-9715-34b440c7dece"
      },
      "execution_count": 17,
      "outputs": [
        {
          "output_type": "execute_result",
          "data": {
            "text/plain": [
              "{'a': 6, 'b': 7, 'c': 8, 'd': 9}"
            ]
          },
          "metadata": {},
          "execution_count": 17
        }
      ]
    },
    {
      "cell_type": "code",
      "source": [
        "{k.upper(): v for(k,v) in dictionary.items()}"
      ],
      "metadata": {
        "colab": {
          "base_uri": "https://localhost:8080/"
        },
        "id": "AJc3rYtpPBFp",
        "outputId": "e30a1292-1c2e-44a3-8b29-8e281969ef59"
      },
      "execution_count": 20,
      "outputs": [
        {
          "output_type": "execute_result",
          "data": {
            "text/plain": [
              "{'A': 1, 'B': 2, 'C': 3, 'D': 4}"
            ]
          },
          "metadata": {},
          "execution_count": 20
        }
      ]
    },
    {
      "cell_type": "code",
      "source": [
        "{k.upper():v**5 for (k,v) in dictionary.items()}"
      ],
      "metadata": {
        "colab": {
          "base_uri": "https://localhost:8080/"
        },
        "id": "tWAmgI0IPBIA",
        "outputId": "d32833d7-083f-43fa-9f2b-87bf41e8b3f2"
      },
      "execution_count": 23,
      "outputs": [
        {
          "output_type": "execute_result",
          "data": {
            "text/plain": [
              "{'A': 1, 'B': 32, 'C': 243, 'D': 1024}"
            ]
          },
          "metadata": {},
          "execution_count": 23
        }
      ]
    },
    {
      "cell_type": "code",
      "source": [
        "#######################\n",
        "# Application - Interview Question\n",
        "#######################\n",
        "\n",
        "# Aim: to square even numbers and add them to a dictionary\n",
        "# Keys will be original values and values will be modified values.\n"
      ],
      "metadata": {
        "id": "BZRxYthuPBKj"
      },
      "execution_count": null,
      "outputs": []
    },
    {
      "cell_type": "code",
      "source": [
        "number=range(10)\n",
        "new_dict={}\n",
        "for i in number:\n",
        "  if i%2==0:\n",
        "    new_dict[i]=i**2\n",
        "{i:i**2 for i in number if i%2==0}"
      ],
      "metadata": {
        "colab": {
          "base_uri": "https://localhost:8080/"
        },
        "id": "y-iK74CFPBNf",
        "outputId": "0a0d6a25-4fa9-4d92-e38a-c3df0814a696"
      },
      "execution_count": 32,
      "outputs": [
        {
          "output_type": "execute_result",
          "data": {
            "text/plain": [
              "{0: 0, 2: 4, 4: 16, 6: 36, 8: 64}"
            ]
          },
          "metadata": {},
          "execution_count": 32
        }
      ]
    },
    {
      "cell_type": "code",
      "source": [
        "#######################\n",
        "# List & Dict Comprehension Applications\n",
        "#######################\n"
      ],
      "metadata": {
        "id": "_nc9isxUPBPv"
      },
      "execution_count": null,
      "outputs": []
    },
    {
      "cell_type": "code",
      "source": [
        "######################\n",
        "# Changing the name of the elements of a list\n",
        "#######################\n",
        "\n",
        "# before:\n",
        "# ['total', 'speeding', 'alcohol', 'not_distracted', 'no_previous', 'ins_premium', 'ins_losses', 'abbrev']\n",
        "\n",
        "# after:\n",
        "# ['TOTAL', 'SPEEDING', 'ALCOHOL', 'NOT_DISTRACTED', 'NO_PREVIOUS', 'INS_PREMIUM', 'INS_LOSSES', 'ABBREV']"
      ],
      "metadata": {
        "id": "aMxkQ6luPBSr"
      },
      "execution_count": null,
      "outputs": []
    },
    {
      "cell_type": "code",
      "source": [
        "before=['total', 'speeding', 'alcohol', 'not_distracted', 'no_previous', 'ins_premium', 'ins_losses', 'abbrev']\n",
        "\n",
        "[k.upper() for k in before]\n"
      ],
      "metadata": {
        "colab": {
          "base_uri": "https://localhost:8080/"
        },
        "id": "dHkMxN-dPBVL",
        "outputId": "9e99ccf2-541a-48c7-908f-65f10f0c92ec"
      },
      "execution_count": 34,
      "outputs": [
        {
          "output_type": "execute_result",
          "data": {
            "text/plain": [
              "['TOTAL',\n",
              " 'SPEEDING',\n",
              " 'ALCOHOL',\n",
              " 'NOT_DISTRACTED',\n",
              " 'NO_PREVIOUS',\n",
              " 'INS_PREMIUM',\n",
              " 'INS_LOSSES',\n",
              " 'ABBREV']"
            ]
          },
          "metadata": {},
          "execution_count": 34
        }
      ]
    },
    {
      "cell_type": "code",
      "source": [
        ""
      ],
      "metadata": {
        "id": "FPorK8HRPBYM"
      },
      "execution_count": null,
      "outputs": []
    }
  ]
}