{
  "nbformat": 4,
  "nbformat_minor": 0,
  "metadata": {
    "colab": {
      "name": "All_in_One_File(Python_Programming).ipynb",
      "provenance": [],
      "collapsed_sections": []
    },
    "kernelspec": {
      "name": "python3",
      "display_name": "Python 3"
    },
    "language_info": {
      "name": "python"
    }
  },
  "cells": [
    {
      "cell_type": "code",
      "execution_count": 1,
      "metadata": {
        "id": "S6CMyRMLhZWU"
      },
      "outputs": [],
      "source": [
        "# Functions,conditions,Loops,Comprehensions"
      ]
    },
    {
      "cell_type": "code",
      "source": [
        "#Functions\n",
        "\n",
        "print(\"a\")\n",
        "print(\"a\",\"b\")\n",
        "\n",
        "print(\"a\",\"b\",\"c\")"
      ],
      "metadata": {
        "colab": {
          "base_uri": "https://localhost:8080/"
        },
        "id": "heMhisOohfLs",
        "outputId": "716a24ea-a038-4b93-8f54-c532b957526d"
      },
      "execution_count": 2,
      "outputs": [
        {
          "output_type": "stream",
          "name": "stdout",
          "text": [
            "a\n",
            "a b\n",
            "a b c\n"
          ]
        }
      ]
    },
    {
      "cell_type": "code",
      "source": [
        "print(\"a\",\"b\",sep=\".\")#seperate boths with punkt'.'\n",
        "print(\"a\",\"b\",sep=\"*_*\")#seperate boths with *_*"
      ],
      "metadata": {
        "colab": {
          "base_uri": "https://localhost:8080/"
        },
        "id": "y4AI0TcyhfOz",
        "outputId": "0fe85005-a6ab-4e66-fc14-a02ad482f77a"
      },
      "execution_count": 3,
      "outputs": [
        {
          "output_type": "stream",
          "name": "stdout",
          "text": [
            "a.b\n",
            "a*_*b\n"
          ]
        }
      ]
    },
    {
      "cell_type": "code",
      "source": [
        "#Definition a function\n",
        "def calculate(x):\n",
        "  print(x*2)\n",
        "\n",
        "calculate(2)\n",
        "calculate(20)"
      ],
      "metadata": {
        "colab": {
          "base_uri": "https://localhost:8080/"
        },
        "id": "CVfq6iu6hfRL",
        "outputId": "90c67e6c-ef1f-44e3-c86f-5149ea714cc4"
      },
      "execution_count": 4,
      "outputs": [
        {
          "output_type": "stream",
          "name": "stdout",
          "text": [
            "4\n",
            "40\n"
          ]
        }
      ]
    },
    {
      "cell_type": "code",
      "source": [
        "#with two arguments/function with 2 parameters\n",
        "def summer(arg1,arg2):\n",
        "  print(arg1+arg2)\n",
        "\n",
        "summer(10,15)#sum of 10+15\n",
        "summer(50,22)\n",
        "summer(arg1=21,arg2=35)#we can alsa put a value as this example"
      ],
      "metadata": {
        "colab": {
          "base_uri": "https://localhost:8080/"
        },
        "id": "Gd6f-mqahfWc",
        "outputId": "13616e62-9a07-470e-b69c-07d6f7777068"
      },
      "execution_count": 5,
      "outputs": [
        {
          "output_type": "stream",
          "name": "stdout",
          "text": [
            "25\n",
            "72\n",
            "56\n"
          ]
        }
      ]
    },
    {
      "cell_type": "code",
      "source": [
        "#Docstring>Definition of a functions\n",
        "\n",
        "def summer(arg1,arg2):\n",
        "  \"\"\"\n",
        "  Sum of two numbers\n",
        "\n",
        "  Args:\n",
        "  arg1:int,float\n",
        "  arg2:int,float\n",
        "\n",
        "  Returns:\n",
        "  int,float\n",
        "  \"\"\"\n",
        "  print(arg1+arg2)\n",
        "summer(7,2)\n",
        "#we may create a functions but the other coders should also understand why do we write this function. \n",
        "#Thats why we have to use Docstring"
      ],
      "metadata": {
        "colab": {
          "base_uri": "https://localhost:8080/"
        },
        "id": "UFX7QkZhhfZf",
        "outputId": "02ff0064-067a-44c3-dd52-de1688cb5e7c"
      },
      "execution_count": 6,
      "outputs": [
        {
          "output_type": "stream",
          "name": "stdout",
          "text": [
            "9\n"
          ]
        }
      ]
    },
    {
      "cell_type": "code",
      "source": [
        "#Statement/body of functions\n",
        "\n",
        "def say_hi():\n",
        "  print(\"Hello\")\n",
        "  print(\"Hallo\")\n",
        "  print(\"Silav\")\n",
        "say_hi()"
      ],
      "metadata": {
        "colab": {
          "base_uri": "https://localhost:8080/"
        },
        "id": "535ELYslhfcK",
        "outputId": "08b421ff-b406-4af4-d1d5-7024bb2e53f7"
      },
      "execution_count": 7,
      "outputs": [
        {
          "output_type": "stream",
          "name": "stdout",
          "text": [
            "Hello\n",
            "Hallo\n",
            "Silav\n"
          ]
        }
      ]
    },
    {
      "cell_type": "code",
      "source": [
        "def say_hi(string):\n",
        "  print(string)\n",
        "  print(\"Hello\")\n",
        "  print(\"Hallo\")\n",
        "  print(\"Silav\")\n",
        "say_hi(\"Mervan Özekinci\")"
      ],
      "metadata": {
        "colab": {
          "base_uri": "https://localhost:8080/"
        },
        "id": "0wYI6jk2hfem",
        "outputId": "17d59913-a3c2-4b35-88d9-f9a509641ae2"
      },
      "execution_count": 8,
      "outputs": [
        {
          "output_type": "stream",
          "name": "stdout",
          "text": [
            "Mervan Özekinci\n",
            "Hello\n",
            "Hallo\n",
            "Silav\n"
          ]
        }
      ]
    },
    {
      "cell_type": "code",
      "source": [
        "def say_hi(string=\"Matrix\"):#if string is not given than default value is Matrix\n",
        "  print(string)\n",
        "  print(\"Hello\")\n",
        "  print(\"Hallo\")\n",
        "  print(\"Silav\")\n",
        "say_hi(\"Mervan Özekinci\")\n",
        "say_hi()"
      ],
      "metadata": {
        "colab": {
          "base_uri": "https://localhost:8080/"
        },
        "id": "yOjgkc9hm0Y0",
        "outputId": "6b309379-18ca-4181-da0b-4e43dda79e4b"
      },
      "execution_count": 9,
      "outputs": [
        {
          "output_type": "stream",
          "name": "stdout",
          "text": [
            "Mervan Özekinci\n",
            "Hello\n",
            "Hallo\n",
            "Silav\n",
            "Matrix\n",
            "Hello\n",
            "Hallo\n",
            "Silav\n"
          ]
        }
      ]
    },
    {
      "cell_type": "code",
      "source": [
        "def multiplication(a,b):\n",
        "  c=a*b\n",
        "  print(\"Result:\",c)\n",
        "  return c\n",
        "multiplication(7,2)"
      ],
      "metadata": {
        "colab": {
          "base_uri": "https://localhost:8080/"
        },
        "id": "T6ZqfHRCkxUk",
        "outputId": "2eadb2de-6d3c-48b4-8c02-e5ffcc4f338c"
      },
      "execution_count": 10,
      "outputs": [
        {
          "output_type": "stream",
          "name": "stdout",
          "text": [
            "Result: 14\n"
          ]
        },
        {
          "output_type": "execute_result",
          "data": {
            "text/plain": [
              "14"
            ]
          },
          "metadata": {},
          "execution_count": 10
        }
      ]
    },
    {
      "cell_type": "code",
      "source": [
        "list_store=[]\n",
        "def add_element(a,b):\n",
        "  c=a*b\n",
        "  list_store.append(c)\n",
        "  print(list_store)\n",
        "\n",
        "add_element(1,5)\n",
        "add_element(5,12)\n",
        "add_element(25,5)\n",
        "\n"
      ],
      "metadata": {
        "colab": {
          "base_uri": "https://localhost:8080/"
        },
        "id": "l0zDAi7akxYV",
        "outputId": "f317f189-f456-424f-9f59-3da2ba666723"
      },
      "execution_count": 11,
      "outputs": [
        {
          "output_type": "stream",
          "name": "stdout",
          "text": [
            "[5]\n",
            "[5, 60]\n",
            "[5, 60, 125]\n"
          ]
        }
      ]
    },
    {
      "cell_type": "code",
      "source": [
        "def divide(a,b=1):\n",
        "  print(a/b)\n",
        "\n",
        "divide(5)#here b has a default value if not given\n",
        "divide(50/3)\n"
      ],
      "metadata": {
        "colab": {
          "base_uri": "https://localhost:8080/"
        },
        "id": "da6hQCmQkxbo",
        "outputId": "fa96819b-02e6-4c9b-ad31-1891bee60056"
      },
      "execution_count": 12,
      "outputs": [
        {
          "output_type": "stream",
          "name": "stdout",
          "text": [
            "5.0\n",
            "16.666666666666668\n"
          ]
        }
      ]
    },
    {
      "cell_type": "code",
      "source": [
        "#calling a function within a function\n",
        "def standardization(a,p):\n",
        "  return a*10/100*p*p\n",
        "\n",
        "standardization(45,1)"
      ],
      "metadata": {
        "colab": {
          "base_uri": "https://localhost:8080/"
        },
        "id": "JWTbjH7qkxd8",
        "outputId": "bbad61c7-c77b-4d83-9b8a-fa263910fed9"
      },
      "execution_count": 13,
      "outputs": [
        {
          "output_type": "execute_result",
          "data": {
            "text/plain": [
              "4.5"
            ]
          },
          "metadata": {},
          "execution_count": 13
        }
      ]
    },
    {
      "cell_type": "code",
      "source": [
        "def all_calculation(varm,moisture,charge,p):\n",
        "  a=multiplication(varm,charge)\n",
        "  b=standardization(5,p)\n",
        "  print(b*10)\n",
        "\n",
        "all_calculation(1,3,5,15)"
      ],
      "metadata": {
        "colab": {
          "base_uri": "https://localhost:8080/"
        },
        "id": "M8gVUaMUkxg_",
        "outputId": "b2cbc766-fade-4c6d-f3e3-6bb0981e0b9e"
      },
      "execution_count": 14,
      "outputs": [
        {
          "output_type": "stream",
          "name": "stdout",
          "text": [
            "Result: 5\n",
            "1125.0\n"
          ]
        }
      ]
    },
    {
      "cell_type": "code",
      "source": [
        "#Boolean True-False\n",
        "1==1#True"
      ],
      "metadata": {
        "colab": {
          "base_uri": "https://localhost:8080/"
        },
        "id": "s3tQvt1-kxjP",
        "outputId": "f53db5ee-fb1a-41b8-b3f5-7063e9b51258"
      },
      "execution_count": 15,
      "outputs": [
        {
          "output_type": "execute_result",
          "data": {
            "text/plain": [
              "True"
            ]
          },
          "metadata": {},
          "execution_count": 15
        }
      ]
    },
    {
      "cell_type": "code",
      "source": [
        "1==2#False"
      ],
      "metadata": {
        "colab": {
          "base_uri": "https://localhost:8080/"
        },
        "id": "4MTja-_WqNgp",
        "outputId": "f82d1a92-cfee-4ac4-ef50-aefb54a4e7cc"
      },
      "execution_count": 16,
      "outputs": [
        {
          "output_type": "execute_result",
          "data": {
            "text/plain": [
              "False"
            ]
          },
          "metadata": {},
          "execution_count": 16
        }
      ]
    },
    {
      "cell_type": "code",
      "source": [
        "1!=2"
      ],
      "metadata": {
        "colab": {
          "base_uri": "https://localhost:8080/"
        },
        "id": "RHjJXpa3kxl1",
        "outputId": "710bb343-d5de-4773-8cc0-7d12bba45be7"
      },
      "execution_count": 17,
      "outputs": [
        {
          "output_type": "execute_result",
          "data": {
            "text/plain": [
              "True"
            ]
          },
          "metadata": {},
          "execution_count": 17
        }
      ]
    },
    {
      "cell_type": "code",
      "source": [
        "if 1==1:\n",
        "  print(\"Yes\")\n",
        "\n",
        "if 1==2:\n",
        "  print(\"ooopss\")\n",
        "else:\n",
        "  print(\"Check one more time\")"
      ],
      "metadata": {
        "colab": {
          "base_uri": "https://localhost:8080/"
        },
        "id": "XI5fxiLRqpb7",
        "outputId": "b404ef29-5571-44be-8067-6055b999eacb"
      },
      "execution_count": 18,
      "outputs": [
        {
          "output_type": "stream",
          "name": "stdout",
          "text": [
            "Yes\n",
            "Check one more time\n"
          ]
        }
      ]
    },
    {
      "cell_type": "code",
      "source": [
        "def number_check(number):\n",
        "  if number==10:\n",
        "    print(\"number is 10\")\n",
        "  else:\n",
        "    print(\"number is not 10\")\n",
        "\n",
        "number_check(10)\n",
        "number_check(14)"
      ],
      "metadata": {
        "colab": {
          "base_uri": "https://localhost:8080/"
        },
        "id": "TH4iklCFkxol",
        "outputId": "107d2241-ca73-44ff-bd1b-b516c4791eff"
      },
      "execution_count": 19,
      "outputs": [
        {
          "output_type": "stream",
          "name": "stdout",
          "text": [
            "number is 10\n",
            "number is not 10\n"
          ]
        }
      ]
    },
    {
      "cell_type": "code",
      "source": [
        "def great_check(number):\n",
        "  if number>10:\n",
        "    print(\"greater than 10\")\n",
        "  elif number<10:\n",
        "    print(\"less than 10\")\n",
        "  else:\n",
        "    print(\"equal to 10\")\n",
        "great_check(10)\n",
        "great_check(15)\n",
        "great_check(5)"
      ],
      "metadata": {
        "colab": {
          "base_uri": "https://localhost:8080/"
        },
        "id": "4mfszKT9kxre",
        "outputId": "711f0ee2-a1e5-4701-e639-04b56d901fd3"
      },
      "execution_count": 20,
      "outputs": [
        {
          "output_type": "stream",
          "name": "stdout",
          "text": [
            "equal to 10\n",
            "greater than 10\n",
            "less than 10\n"
          ]
        }
      ]
    },
    {
      "cell_type": "markdown",
      "source": [
        "#loops"
      ],
      "metadata": {
        "id": "SjEDjSnYq88u"
      }
    },
    {
      "cell_type": "code",
      "source": [
        "student=[\"Johny\",\"Johnny\",\"Yes\",\"Papa\"]\n",
        "student[0]#first element of list it means 0.index"
      ],
      "metadata": {
        "colab": {
          "base_uri": "https://localhost:8080/",
          "height": 36
        },
        "id": "SOr-Ohxfq8_Y",
        "outputId": "c95b7987-ae75-4770-afde-7a2767ece1f1"
      },
      "execution_count": 21,
      "outputs": [
        {
          "output_type": "execute_result",
          "data": {
            "text/plain": [
              "'Johny'"
            ],
            "application/vnd.google.colaboratory.intrinsic+json": {
              "type": "string"
            }
          },
          "metadata": {},
          "execution_count": 21
        }
      ]
    },
    {
      "cell_type": "code",
      "source": [
        "print(\"1.index:\",student[1])\n"
      ],
      "metadata": {
        "colab": {
          "base_uri": "https://localhost:8080/"
        },
        "id": "6cJbUNYFq9Cd",
        "outputId": "7865fadc-c4d6-409a-babf-7cc0215a7afb"
      },
      "execution_count": 22,
      "outputs": [
        {
          "output_type": "stream",
          "name": "stdout",
          "text": [
            "1.index: Johnny\n"
          ]
        }
      ]
    },
    {
      "cell_type": "code",
      "source": [
        "for s in student:\n",
        "  print(s)"
      ],
      "metadata": {
        "colab": {
          "base_uri": "https://localhost:8080/"
        },
        "id": "9-insc9tq9Fu",
        "outputId": "484b1116-25ef-494a-b94f-103b595a8648"
      },
      "execution_count": 23,
      "outputs": [
        {
          "output_type": "stream",
          "name": "stdout",
          "text": [
            "Johny\n",
            "Johnny\n",
            "Yes\n",
            "Papa\n"
          ]
        }
      ]
    },
    {
      "cell_type": "code",
      "source": [
        "for i in student:\n",
        "  print(i.upper())#capitalize all letters"
      ],
      "metadata": {
        "colab": {
          "base_uri": "https://localhost:8080/"
        },
        "id": "HKT0vB68q9H_",
        "outputId": "8f89189f-e7d0-404b-d0f4-593c26b46f7b"
      },
      "execution_count": 24,
      "outputs": [
        {
          "output_type": "stream",
          "name": "stdout",
          "text": [
            "JOHNY\n",
            "JOHNNY\n",
            "YES\n",
            "PAPA\n"
          ]
        }
      ]
    },
    {
      "cell_type": "code",
      "source": [
        "for i in student:\n",
        "  print(i.lower())"
      ],
      "metadata": {
        "colab": {
          "base_uri": "https://localhost:8080/"
        },
        "id": "wmmMd_gzq9Kv",
        "outputId": "f719b3f9-9835-494a-df9b-c832fe6199b4"
      },
      "execution_count": 25,
      "outputs": [
        {
          "output_type": "stream",
          "name": "stdout",
          "text": [
            "johny\n",
            "johnny\n",
            "yes\n",
            "papa\n"
          ]
        }
      ]
    },
    {
      "cell_type": "code",
      "source": [
        "salaries=[100,200,300,400,500]\n",
        "\n",
        "for salary in salaries:\n",
        "  print(salary)"
      ],
      "metadata": {
        "colab": {
          "base_uri": "https://localhost:8080/"
        },
        "id": "_7-dVJhnq9NY",
        "outputId": "6c7888bc-2517-44a5-f552-251a89f48a30"
      },
      "execution_count": 26,
      "outputs": [
        {
          "output_type": "stream",
          "name": "stdout",
          "text": [
            "100\n",
            "200\n",
            "300\n",
            "400\n",
            "500\n"
          ]
        }
      ]
    },
    {
      "cell_type": "code",
      "source": [
        "#Case 1:\n",
        "  # before: \"hi my name is john and i am learning python\"\n",
        "  # after: \"Hi mY NaMe iS JoHn aNd i aM LeArNiNg pYtHoN\""
      ],
      "metadata": {
        "id": "xhJRfkCaq9Q9"
      },
      "execution_count": 27,
      "outputs": []
    },
    {
      "cell_type": "code",
      "source": [
        "who=\"hi my name is john and i am learning python\"\n",
        "\n",
        "who[0]#>h\n",
        "who[6]#>n"
      ],
      "metadata": {
        "colab": {
          "base_uri": "https://localhost:8080/",
          "height": 36
        },
        "id": "LtwyiL0Kq9UO",
        "outputId": "019e49f1-33b6-497d-cfd9-c431dbe30154"
      },
      "execution_count": 28,
      "outputs": [
        {
          "output_type": "execute_result",
          "data": {
            "text/plain": [
              "'n'"
            ],
            "application/vnd.google.colaboratory.intrinsic+json": {
              "type": "string"
            }
          },
          "metadata": {},
          "execution_count": 28
        }
      ]
    },
    {
      "cell_type": "code",
      "source": [
        "def alternating(who):\n",
        "  new_list=\"\"\n",
        "  for i in range(len(who)):\n",
        "    if i%2==0:\n",
        "      new_list +=who[i].upper()#capitalization of the letter\n",
        "    else:\n",
        "      new_list +=who[i].lower()\n",
        "\n",
        "  print(new_list)\n",
        "\n",
        "alternating(who)\n",
        "alternating(\"Hi i am Mervan Ozekinci and i am Learning Python\")\n",
        "\n"
      ],
      "metadata": {
        "colab": {
          "base_uri": "https://localhost:8080/"
        },
        "id": "eYNfC8vKq9bZ",
        "outputId": "b6478281-7472-4280-dadf-2ae1ebcc0bab"
      },
      "execution_count": 29,
      "outputs": [
        {
          "output_type": "stream",
          "name": "stdout",
          "text": [
            "Hi mY NaMe iS JoHn aNd i aM LeArNiNg pYtHoN\n",
            "Hi i aM MeRvAn oZeKiNcI AnD I Am lEaRnInG PyThOn\n"
          ]
        }
      ]
    },
    {
      "cell_type": "code",
      "source": [
        "students = [\"John\", \"Mark\", \"Venessa\", \"Mariam\"]\n",
        "\n",
        "for student in students:\n",
        "    print(student)\n",
        "\n",
        "for index, student in enumerate(students):\n",
        "    print(index, student)"
      ],
      "metadata": {
        "colab": {
          "base_uri": "https://localhost:8080/"
        },
        "id": "Mgi_oWX7q9eR",
        "outputId": "c7cf2a0b-0eac-4360-d5a2-c7ba91c5f454"
      },
      "execution_count": 30,
      "outputs": [
        {
          "output_type": "stream",
          "name": "stdout",
          "text": [
            "John\n",
            "Mark\n",
            "Venessa\n",
            "Mariam\n",
            "0 John\n",
            "1 Mark\n",
            "2 Venessa\n",
            "3 Mariam\n"
          ]
        }
      ]
    },
    {
      "cell_type": "markdown",
      "source": [
        "#Case 2:\n",
        "\n",
        "* Divide Students Function\n",
        "* Put the students in the double index in one list.\n",
        "* Put the students with odd index in another list.\n",
        "* But return these two lists as a single list."
      ],
      "metadata": {
        "id": "bKEtr8-xq9hY"
      }
    },
    {
      "cell_type": "code",
      "source": [
        "students=[\"John\",\"Mark\",\"Venessa\",\"Mariam\"]\n",
        "\n",
        "def divide_students(students):\n",
        "  groups=[[],[]]\n",
        "\n",
        "  for index,student in enumerate(students):\n",
        "    if index % 2 == 0:\n",
        "      groups[0].append(student)\n",
        "    else:\n",
        "      groups[1].append(student)\n",
        "  print(groups)\n",
        "  return groups\n",
        "\n",
        "divide_students(students)\n"
      ],
      "metadata": {
        "id": "E3UUXECeq9kW",
        "colab": {
          "base_uri": "https://localhost:8080/"
        },
        "outputId": "1180515c-8b5e-4fa1-8013-f19b6f142119"
      },
      "execution_count": 33,
      "outputs": [
        {
          "output_type": "stream",
          "name": "stdout",
          "text": [
            "[['John', 'Venessa'], ['Mark', 'Mariam']]\n"
          ]
        },
        {
          "output_type": "execute_result",
          "data": {
            "text/plain": [
              "[['John', 'Venessa'], ['Mark', 'Mariam']]"
            ]
          },
          "metadata": {},
          "execution_count": 33
        }
      ]
    },
    {
      "cell_type": "code",
      "source": [
        "st=divide_students(students)\n",
        "print(st[0])\n",
        "print(st[1])"
      ],
      "metadata": {
        "id": "3x94Shc7q9nw",
        "colab": {
          "base_uri": "https://localhost:8080/"
        },
        "outputId": "264c88dd-c011-416d-bf05-02195454a114"
      },
      "execution_count": 37,
      "outputs": [
        {
          "output_type": "stream",
          "name": "stdout",
          "text": [
            "[['John', 'Venessa'], ['Mark', 'Mariam']]\n",
            "['John', 'Venessa']\n",
            "['Mark', 'Mariam']\n"
          ]
        }
      ]
    },
    {
      "cell_type": "code",
      "source": [
        "#Definition of alternating functions with enumerate\n",
        "\n",
        "def alternating_with_enumerate(string):\n",
        "  new_string=\"\"\n",
        "  for i,letter in enumerate(string):\n",
        "    if i%2==0:\n",
        "      new_string+=letter.upper()\n",
        "    else:\n",
        "      new_string+=letter.lower()\n",
        "  print(new_string)\n",
        "ai=\"i am the Future of technology for the World\"\n",
        "alternating_with_enumerate(ai)"
      ],
      "metadata": {
        "id": "zCg6e-Vvkxul",
        "colab": {
          "base_uri": "https://localhost:8080/"
        },
        "outputId": "99a6fe25-62d0-4f7d-f659-9b8c019b11e8"
      },
      "execution_count": 40,
      "outputs": [
        {
          "output_type": "stream",
          "name": "stdout",
          "text": [
            "I Am tHe fUtUrE Of tEcHnOlOgY FoR ThE WoRlD\n"
          ]
        }
      ]
    },
    {
      "cell_type": "code",
      "source": [
        ""
      ],
      "metadata": {
        "id": "K8Gql7KLhfhR"
      },
      "execution_count": 30,
      "outputs": []
    },
    {
      "cell_type": "code",
      "source": [
        ""
      ],
      "metadata": {
        "id": "Zyfv8hsahfkU"
      },
      "execution_count": 30,
      "outputs": []
    }
  ]
}