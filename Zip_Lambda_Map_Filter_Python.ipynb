{
  "nbformat": 4,
  "nbformat_minor": 0,
  "metadata": {
    "colab": {
      "name": "Zip_Lambda_Map_Filter_Python.ipynb",
      "provenance": []
    },
    "kernelspec": {
      "name": "python3",
      "display_name": "Python 3"
    },
    "language_info": {
      "name": "python"
    }
  },
  "cells": [
    {
      "cell_type": "code",
      "execution_count": null,
      "metadata": {
        "id": "P8gXQG9KF8c5"
      },
      "outputs": [],
      "source": [
        "#################\n",
        "#Zip\n",
        "#################\n"
      ]
    },
    {
      "cell_type": "code",
      "source": [
        "students=[\"Trump\",\"Biden\",\"Merkel\",\"Katrin\"]\n",
        "department=[\"mathematics\",\"statitics\",\"pyhsics\",\"astrnomy\"]\n",
        "age=[50,90,25,18]\n",
        "\n",
        "list(zip(students,department,age))"
      ],
      "metadata": {
        "colab": {
          "base_uri": "https://localhost:8080/"
        },
        "id": "9w3c1dH5F_Dy",
        "outputId": "c4fb51fd-9eda-4066-b1a9-2cf3b05f9c98"
      },
      "execution_count": 2,
      "outputs": [
        {
          "output_type": "execute_result",
          "data": {
            "text/plain": [
              "[('Trump', 'mathematics', 50),\n",
              " ('Biden', 'statitics', 90),\n",
              " ('Merkel', 'pyhsics', 25),\n",
              " ('Katrin', 'astrnomy', 18)]"
            ]
          },
          "metadata": {},
          "execution_count": 2
        }
      ]
    },
    {
      "cell_type": "code",
      "source": [
        "list(zip(students,department,age))[2]"
      ],
      "metadata": {
        "colab": {
          "base_uri": "https://localhost:8080/"
        },
        "id": "8cFlgTbEF_GP",
        "outputId": "765d3e39-7202-43b7-e2b9-f2e7d8f99fa8"
      },
      "execution_count": 11,
      "outputs": [
        {
          "output_type": "execute_result",
          "data": {
            "text/plain": [
              "('Merkel', 'pyhsics', 25)"
            ]
          },
          "metadata": {},
          "execution_count": 11
        }
      ]
    },
    {
      "cell_type": "code",
      "source": [
        "###################\n",
        "#Lambda,map,filter,reduce\n",
        "###################"
      ],
      "metadata": {
        "id": "V9ZyaY3lF_Ic"
      },
      "execution_count": null,
      "outputs": []
    },
    {
      "cell_type": "code",
      "source": [
        "def summer(a,b):\n",
        "  return a+b\n",
        "\n",
        "summer(2,5)*9"
      ],
      "metadata": {
        "colab": {
          "base_uri": "https://localhost:8080/"
        },
        "id": "qBFuw0B6F_Kq",
        "outputId": "f07cc593-ee71-44fe-b93e-690ebecbdf60"
      },
      "execution_count": 13,
      "outputs": [
        {
          "output_type": "execute_result",
          "data": {
            "text/plain": [
              "63"
            ]
          },
          "metadata": {},
          "execution_count": 13
        }
      ]
    },
    {
      "cell_type": "code",
      "source": [
        "#Lambda\n",
        "new_sum=lambda a,b :a+b\n",
        "new_sum(4,5)*8"
      ],
      "metadata": {
        "colab": {
          "base_uri": "https://localhost:8080/"
        },
        "id": "KMTRs1kOF_NN",
        "outputId": "4f5e8b19-3b3b-4bb5-cb75-7ddc3a0cdee5"
      },
      "execution_count": 15,
      "outputs": [
        {
          "output_type": "execute_result",
          "data": {
            "text/plain": [
              "72"
            ]
          },
          "metadata": {},
          "execution_count": 15
        }
      ]
    },
    {
      "cell_type": "code",
      "source": [
        "#Map\n",
        "salaries=[100,200,300,400,500]\n",
        "\n",
        "def new_salary(x):\n",
        "  return x*20/100+x\n",
        "new_salary(5000)"
      ],
      "metadata": {
        "colab": {
          "base_uri": "https://localhost:8080/"
        },
        "id": "7yJKgdbIF_Pf",
        "outputId": "8734d69a-e467-4595-d321-a74e6161cec0"
      },
      "execution_count": 18,
      "outputs": [
        {
          "output_type": "execute_result",
          "data": {
            "text/plain": [
              "6000.0"
            ]
          },
          "metadata": {},
          "execution_count": 18
        }
      ]
    },
    {
      "cell_type": "code",
      "source": [
        "for salary in salaries:\n",
        "  print(new_salary(salary))\n"
      ],
      "metadata": {
        "colab": {
          "base_uri": "https://localhost:8080/"
        },
        "id": "I5f66ui5F_Ro",
        "outputId": "cba9bee8-7ba8-4cd9-c9da-6d69ddbf9f36"
      },
      "execution_count": 20,
      "outputs": [
        {
          "output_type": "stream",
          "name": "stdout",
          "text": [
            "120.0\n",
            "240.0\n",
            "360.0\n",
            "480.0\n",
            "600.0\n"
          ]
        }
      ]
    },
    {
      "cell_type": "code",
      "source": [
        "#Map>>Parametre olarak aldığı fonksiyona, parametre olarak aldığı listenin her elemanını sırasıyla parametre olarak gönderir. \n",
        "#[EN]>Sends each element of the list as a parameter to the function it receives as a parameter, respectively. \n",
        "\n",
        "list(map(lambda x:x*20/100+x,salaries))"
      ],
      "metadata": {
        "colab": {
          "base_uri": "https://localhost:8080/"
        },
        "id": "jhkZFg6LF_UM",
        "outputId": "817f571e-202c-4618-b00f-e372d3c03c0f"
      },
      "execution_count": 21,
      "outputs": [
        {
          "output_type": "execute_result",
          "data": {
            "text/plain": [
              "[120.0, 240.0, 360.0, 480.0, 600.0]"
            ]
          },
          "metadata": {},
          "execution_count": 21
        }
      ]
    },
    {
      "cell_type": "code",
      "source": [
        "#filter>Returns a list of cases where the value returned by the called function is true.\n",
        "#[TR]>Çağırılan fonksiyonun döndürdüğü değerin true olduğu durumlara göre liste döndürür.\n",
        "\n",
        "list_store=[1,2,3,4,5,6,7,8,9,10]\n",
        "list(filter(lambda x:x%2==0,list_store))"
      ],
      "metadata": {
        "colab": {
          "base_uri": "https://localhost:8080/"
        },
        "id": "DvfbgrmIF_Wv",
        "outputId": "b12df25a-24be-4acb-f23d-0673db19b405"
      },
      "execution_count": 22,
      "outputs": [
        {
          "output_type": "execute_result",
          "data": {
            "text/plain": [
              "[2, 4, 6, 8, 10]"
            ]
          },
          "metadata": {},
          "execution_count": 22
        }
      ]
    },
    {
      "cell_type": "code",
      "source": [
        "# REDUCE\n",
        "from functools import reduce\n",
        "list_store = [1, 2, 3, 4]\n",
        "reduce(lambda a, b: a + b, list_store)"
      ],
      "metadata": {
        "colab": {
          "base_uri": "https://localhost:8080/"
        },
        "id": "kPPflbBoF_bE",
        "outputId": "f7c8dbe3-94c3-482f-fbe6-bb7cfcf88078"
      },
      "execution_count": 23,
      "outputs": [
        {
          "output_type": "execute_result",
          "data": {
            "text/plain": [
              "10"
            ]
          },
          "metadata": {},
          "execution_count": 23
        }
      ]
    },
    {
      "cell_type": "code",
      "source": [
        "#######################\n",
        "# List Comprehension\n",
        "#######################"
      ],
      "metadata": {
        "id": "NmZ_ZHMqF_do"
      },
      "execution_count": null,
      "outputs": []
    },
    {
      "cell_type": "code",
      "source": [
        "salaries = [1000, 2000, 3000, 4000, 5000]\n",
        "\n",
        "def new_salary(x):\n",
        "    return x * 20 / 100 + x\n",
        "\n",
        "for salary in salaries:\n",
        "    print(new_salary(salary))\n",
        "\n",
        "null_list = []\n",
        "\n",
        "for salary in salaries:\n",
        "    null_list.append(new_salary(salary))\n",
        "\n",
        "null_list = []\n",
        "\n",
        "for salary in salaries:\n",
        "    if salary > 3000:\n",
        "        null_list.append(new_salary(salary))\n",
        "    else:\n",
        "        null_list.append(new_salary(salary * 2))"
      ],
      "metadata": {
        "colab": {
          "base_uri": "https://localhost:8080/"
        },
        "id": "w0GeFQ_tF_f5",
        "outputId": "1383b54a-8817-4b81-95bc-ded11dde5591"
      },
      "execution_count": 24,
      "outputs": [
        {
          "output_type": "stream",
          "name": "stdout",
          "text": [
            "1200.0\n",
            "2400.0\n",
            "3600.0\n",
            "4800.0\n",
            "6000.0\n"
          ]
        }
      ]
    },
    {
      "cell_type": "code",
      "source": [
        "[new_salary(salary*2) if salary<3000 else new_salary(salary) for salary in salaries]"
      ],
      "metadata": {
        "colab": {
          "base_uri": "https://localhost:8080/"
        },
        "id": "0bZq8pPrK2MN",
        "outputId": "9540aada-820c-4306-a183-d2362a3bd145"
      },
      "execution_count": 25,
      "outputs": [
        {
          "output_type": "execute_result",
          "data": {
            "text/plain": [
              "[2400.0, 4800.0, 3600.0, 4800.0, 6000.0]"
            ]
          },
          "metadata": {},
          "execution_count": 25
        }
      ]
    },
    {
      "cell_type": "code",
      "source": [
        "[salary*2 for salary in salaries]"
      ],
      "metadata": {
        "colab": {
          "base_uri": "https://localhost:8080/"
        },
        "id": "EzD_9tTSK2PY",
        "outputId": "41182855-67a4-466a-9f72-ed7141076bab"
      },
      "execution_count": 26,
      "outputs": [
        {
          "output_type": "execute_result",
          "data": {
            "text/plain": [
              "[2000, 4000, 6000, 8000, 10000]"
            ]
          },
          "metadata": {},
          "execution_count": 26
        }
      ]
    },
    {
      "cell_type": "code",
      "source": [
        "print(\"salaries:\",salaries)\n",
        "[salary*2 for salary in salaries if salary<3000]"
      ],
      "metadata": {
        "colab": {
          "base_uri": "https://localhost:8080/"
        },
        "id": "WCsEzFn3K2R7",
        "outputId": "9b0075ef-13d6-4e13-df1f-79aeaad88e49"
      },
      "execution_count": 32,
      "outputs": [
        {
          "output_type": "stream",
          "name": "stdout",
          "text": [
            "salaries: [1000, 2000, 3000, 4000, 5000]\n"
          ]
        },
        {
          "output_type": "execute_result",
          "data": {
            "text/plain": [
              "[2000, 4000]"
            ]
          },
          "metadata": {},
          "execution_count": 32
        }
      ]
    },
    {
      "cell_type": "code",
      "source": [
        "[salary*2 if salary<3000 else salary*0 for salary in salaries]"
      ],
      "metadata": {
        "colab": {
          "base_uri": "https://localhost:8080/"
        },
        "id": "FRnzCkN2K2Uf",
        "outputId": "7606a17e-012f-4a9e-cab8-57e584adb8d6"
      },
      "execution_count": 34,
      "outputs": [
        {
          "output_type": "execute_result",
          "data": {
            "text/plain": [
              "[2000, 4000, 0, 0, 0]"
            ]
          },
          "metadata": {},
          "execution_count": 34
        }
      ]
    },
    {
      "cell_type": "code",
      "source": [
        "[new_salary(salary * 2) if salary < 3000 else new_salary(salary * 0.2) for salary in salaries]"
      ],
      "metadata": {
        "colab": {
          "base_uri": "https://localhost:8080/"
        },
        "id": "bl9wnRANK2Wy",
        "outputId": "acbe976b-9420-432f-b259-53d1c7802a2c"
      },
      "execution_count": 44,
      "outputs": [
        {
          "output_type": "execute_result",
          "data": {
            "text/plain": [
              "[2400.0, 4800.0, 720.0, 960.0, 1200.0]"
            ]
          },
          "metadata": {},
          "execution_count": 44
        }
      ]
    },
    {
      "cell_type": "code",
      "source": [
        "students = [\"John\", \"Mark\", \"Venessa\", \"Mariam\"]\n",
        "students_no = [\"John\", \"Venessa\"]\n",
        "\n",
        "\n",
        "[student.lower() if student in students_no else student.upper() for student in students]\n",
        "[student.upper() if student not in students_no else student.lower() for student in students]\n"
      ],
      "metadata": {
        "colab": {
          "base_uri": "https://localhost:8080/"
        },
        "id": "Gcc2b3pPK2Zh",
        "outputId": "f9a03700-30e3-4388-d269-a56708713bd3"
      },
      "execution_count": 45,
      "outputs": [
        {
          "output_type": "execute_result",
          "data": {
            "text/plain": [
              "['john', 'MARK', 'venessa', 'MARIAM']"
            ]
          },
          "metadata": {},
          "execution_count": 45
        }
      ]
    },
    {
      "cell_type": "code",
      "source": [
        ""
      ],
      "metadata": {
        "id": "_rbkLnLCK2ca"
      },
      "execution_count": null,
      "outputs": []
    },
    {
      "cell_type": "code",
      "source": [
        ""
      ],
      "metadata": {
        "id": "lke4oAFNK2fW"
      },
      "execution_count": null,
      "outputs": []
    },
    {
      "cell_type": "code",
      "source": [
        ""
      ],
      "metadata": {
        "id": "Ti9-_pBWK2hz"
      },
      "execution_count": null,
      "outputs": []
    },
    {
      "cell_type": "code",
      "source": [
        ""
      ],
      "metadata": {
        "id": "EQjyqMQEF_it"
      },
      "execution_count": null,
      "outputs": []
    }
  ]
}